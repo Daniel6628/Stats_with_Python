{
 "cells": [
  {
   "cell_type": "markdown",
   "id": "6dd3e267",
   "metadata": {},
   "source": [
    "# Week 3 Assessment"
   ]
  },
  {
   "cell_type": "code",
   "execution_count": 1,
   "id": "3af3c064",
   "metadata": {},
   "outputs": [],
   "source": [
    "import warnings\n",
    "warnings.filterwarnings('ignore')\n",
    "\n",
    "import numpy as np\n",
    "import statsmodels.api as sm\n",
    "import pandas as pd  \n",
    "\n",
    "url = \"nhanes_2015_2016.csv\"\n",
    "da = pd.read_csv(url)\n",
    "\n",
    "# Drop unused columns, drop rows with any missing values.\n",
    "vars = [\"BPXSY1\", \"RIDAGEYR\", \"RIAGENDR\", \"RIDRETH1\", \"DMDEDUC2\", \"BMXBMI\",\n",
    "        \"SMQ020\", \"SDMVSTRA\", \"SDMVPSU\"]\n",
    "da = da[vars].dropna()\n",
    "\n",
    "da[\"group\"] = 10*da.SDMVSTRA + da.SDMVPSU\n",
    "\n",
    "da[\"smq\"] = da.SMQ020.replace({2: 0, 7: np.nan, 9: np.nan})\n",
    "\n",
    "np.random.seed(123)"
   ]
  },
  {
   "cell_type": "markdown",
   "id": "3c22698f",
   "metadata": {},
   "source": [
    "#### Question 1: What is clustered data? (You'll answer this question within the quiz that follows this notebook)\n",
    "\n",
    "Data is considered clustered when observations are correlated within groups, sometimes related to study designs.\n",
    "\n",
    "#### Question 2: (You'll answer this question within the quiz that follows this notebook)\n",
    "\n",
    "Utilize the following output for this question:"
   ]
  },
  {
   "cell_type": "code",
   "execution_count": 2,
   "id": "718f2fee",
   "metadata": {},
   "outputs": [
    {
     "name": "stdout",
     "output_type": "stream",
     "text": [
      "BPXSY1 The correlation between two observations in the same cluster is 0.030\n",
      "SDMVSTRA The correlation between two observations in the same cluster is 0.959\n",
      "RIDAGEYR The correlation between two observations in the same cluster is 0.035\n",
      "BMXBMI The correlation between two observations in the same cluster is 0.039\n",
      "smq The correlation between two observations in the same cluster is 0.026\n"
     ]
    }
   ],
   "source": [
    "for v in [\"BPXSY1\", \"SDMVSTRA\", \"RIDAGEYR\", \"BMXBMI\", \"smq\"]:\n",
    "    model = sm.GEE.from_formula(v + \" ~ 1\", groups = \"group\",\n",
    "                               cov_struct = sm.cov_struct.Exchangeable(), data = da)\n",
    "    result = model.fit()\n",
    "    print(v, result.cov_struct.summary())"
   ]
  },
  {
   "cell_type": "markdown",
   "id": "870eac00",
   "metadata": {},
   "source": [
    "#### Question 3: (You'll answer this question within the quiz that follows this notebook)\n",
    "\n",
    "What is true about multiple linear regression and marginal linear models when dependence is present in data?\n",
    "\n",
    "Marginal linear model estimates and standard errors are meaningful due to the dependence of data, but only when dependence is strictly between observations within the same group.\n",
    "\n",
    "#### Question 4: (You'll answer this question within the quiz that follows this notebook)\n",
    "\n",
    "Multilevel models are expressed in terms of _____.\n",
    "\n",
    "Random effects\n",
    "\n",
    "#### Question 5: (You'll answer this question within the quiz that follows this notebook)\n",
    "\n",
    "Which of the following is NOT true regarding reasons why we fit marginal models?\n",
    "\n",
    "* Quicker computational times; faster estimation; \n",
    "* Robust standard errors that reflect the specified correlation structure\n",
    "* Easier accommodation of non-normal outcomes"
   ]
  }
 ],
 "metadata": {
  "kernelspec": {
   "display_name": "Python 3",
   "language": "python",
   "name": "python3"
  },
  "language_info": {
   "codemirror_mode": {
    "name": "ipython",
    "version": 3
   },
   "file_extension": ".py",
   "mimetype": "text/x-python",
   "name": "python",
   "nbconvert_exporter": "python",
   "pygments_lexer": "ipython3",
   "version": "3.8.8"
  }
 },
 "nbformat": 4,
 "nbformat_minor": 5
}
