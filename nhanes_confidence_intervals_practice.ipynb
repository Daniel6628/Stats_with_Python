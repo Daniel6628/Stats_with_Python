{
 "cells": [
  {
   "cell_type": "markdown",
   "id": "c76a861d",
   "metadata": {},
   "source": [
    "## Practice notebook for confidence intervals using NHANES data"
   ]
  },
  {
   "cell_type": "code",
   "execution_count": 1,
   "id": "1ce930c8",
   "metadata": {},
   "outputs": [],
   "source": [
    "%matplotlib inline\n",
    "import matplotlib.pyplot as plt\n",
    "import pandas as pd\n",
    "import numpy as np\n",
    "import seaborn as sns\n",
    "import statsmodels.api as sm\n",
    "import scipy.stats as st\n",
    "\n",
    "da = pd.read_csv(\"nhanes_2015_2016.csv\")"
   ]
  },
  {
   "cell_type": "markdown",
   "id": "a2c135f0",
   "metadata": {},
   "source": [
    "### Question 1\n",
    "Restrict the sample to women between 35 and 50, then use the marital status variable DMDMARTL to partition this sample into two groups - women who are currently married, and women who are not currently married. Within each of these groups, calculate the proportion of women who have completed college. Calculate 95% confidence intervals for each of these proportions."
   ]
  },
  {
   "cell_type": "code",
   "execution_count": 2,
   "id": "b45eb0b3",
   "metadata": {},
   "outputs": [],
   "source": [
    "da['agegrp'] = pd.cut(da.RIDAGEYR, [35, 50])\n",
    "da['RIAGENDRx'] = da.RIAGENDR.replace({1:'Male', 2:'Female'})\n",
    "da['DMDMARTLx'] = da.DMDMARTL.replace({1:\"Married\", 2:\"Not Married\", 3:\"Not Married\", 4:\"Not Married\",\n",
    "                                      5:\"Not Married\", 6:\"Not Married\", 77:\"na\"}).dropna()\n",
    "da['DMDEDUC2x'] = da.DMDEDUC2.replace({1: \"<9\", 2: \"9-11\", 3: \"HS/GED\", 4: \"Some college/AA\", 5: \"College\", \n",
    "                                       7: \"Refused\", 9: \"Don't know\"})"
   ]
  },
  {
   "cell_type": "code",
   "execution_count": 3,
   "id": "bde4d03f",
   "metadata": {},
   "outputs": [
    {
     "data": {
      "text/html": [
       "<div>\n",
       "<style scoped>\n",
       "    .dataframe tbody tr th:only-of-type {\n",
       "        vertical-align: middle;\n",
       "    }\n",
       "\n",
       "    .dataframe tbody tr th {\n",
       "        vertical-align: top;\n",
       "    }\n",
       "\n",
       "    .dataframe thead th {\n",
       "        text-align: right;\n",
       "    }\n",
       "</style>\n",
       "<table border=\"1\" class=\"dataframe\">\n",
       "  <thead>\n",
       "    <tr style=\"text-align: right;\">\n",
       "      <th></th>\n",
       "      <th></th>\n",
       "      <th>DMDEDUC2x</th>\n",
       "      <th>9-11</th>\n",
       "      <th>&lt;9</th>\n",
       "      <th>College</th>\n",
       "      <th>HS/GED</th>\n",
       "      <th>Some college/AA</th>\n",
       "    </tr>\n",
       "    <tr>\n",
       "      <th>RIAGENDRx</th>\n",
       "      <th>agegrp</th>\n",
       "      <th>DMDMARTLx</th>\n",
       "      <th></th>\n",
       "      <th></th>\n",
       "      <th></th>\n",
       "      <th></th>\n",
       "      <th></th>\n",
       "    </tr>\n",
       "  </thead>\n",
       "  <tbody>\n",
       "    <tr>\n",
       "      <th rowspan=\"2\" valign=\"top\">Female</th>\n",
       "      <th rowspan=\"2\" valign=\"top\">(35, 50]</th>\n",
       "      <th>Married</th>\n",
       "      <td>0.095465</td>\n",
       "      <td>0.093079</td>\n",
       "      <td>0.367542</td>\n",
       "      <td>0.140811</td>\n",
       "      <td>0.303103</td>\n",
       "    </tr>\n",
       "    <tr>\n",
       "      <th>Not Married</th>\n",
       "      <td>0.109034</td>\n",
       "      <td>0.121495</td>\n",
       "      <td>0.208723</td>\n",
       "      <td>0.205607</td>\n",
       "      <td>0.355140</td>\n",
       "    </tr>\n",
       "    <tr>\n",
       "      <th rowspan=\"3\" valign=\"top\">Male</th>\n",
       "      <th rowspan=\"3\" valign=\"top\">(35, 50]</th>\n",
       "      <th>Married</th>\n",
       "      <td>0.120000</td>\n",
       "      <td>0.115000</td>\n",
       "      <td>0.307500</td>\n",
       "      <td>0.195000</td>\n",
       "      <td>0.262500</td>\n",
       "    </tr>\n",
       "    <tr>\n",
       "      <th>Not Married</th>\n",
       "      <td>0.194313</td>\n",
       "      <td>0.118483</td>\n",
       "      <td>0.137441</td>\n",
       "      <td>0.270142</td>\n",
       "      <td>0.279621</td>\n",
       "    </tr>\n",
       "    <tr>\n",
       "      <th>na</th>\n",
       "      <td>NaN</td>\n",
       "      <td>NaN</td>\n",
       "      <td>NaN</td>\n",
       "      <td>NaN</td>\n",
       "      <td>1.000000</td>\n",
       "    </tr>\n",
       "  </tbody>\n",
       "</table>\n",
       "</div>"
      ],
      "text/plain": [
       "DMDEDUC2x                           9-11        <9   College    HS/GED  \\\n",
       "RIAGENDRx agegrp   DMDMARTLx                                             \n",
       "Female    (35, 50] Married      0.095465  0.093079  0.367542  0.140811   \n",
       "                   Not Married  0.109034  0.121495  0.208723  0.205607   \n",
       "Male      (35, 50] Married      0.120000  0.115000  0.307500  0.195000   \n",
       "                   Not Married  0.194313  0.118483  0.137441  0.270142   \n",
       "                   na                NaN       NaN       NaN       NaN   \n",
       "\n",
       "DMDEDUC2x                       Some college/AA  \n",
       "RIAGENDRx agegrp   DMDMARTLx                     \n",
       "Female    (35, 50] Married             0.303103  \n",
       "                   Not Married         0.355140  \n",
       "Male      (35, 50] Married             0.262500  \n",
       "                   Not Married         0.279621  \n",
       "                   na                  1.000000  "
      ]
     },
     "execution_count": 3,
     "metadata": {},
     "output_type": "execute_result"
    }
   ],
   "source": [
    "# Within each of these groups, calculate the proportion of women who have completed college.\n",
    "dx = da.groupby(['RIAGENDRx', 'agegrp', 'DMDMARTLx']).DMDEDUC2x.value_counts().unstack()\n",
    "dx = dx.apply(lambda z: z / z.sum(), axis = 1)\n",
    "dx"
   ]
  },
  {
   "cell_type": "code",
   "execution_count": 4,
   "id": "b687c5fa",
   "metadata": {},
   "outputs": [
    {
     "data": {
      "text/plain": [
       "Married        0.112738\n",
       "Not Married    0.049048\n",
       "Name: DMDMARTLx, dtype: float64"
      ]
     },
     "execution_count": 4,
     "metadata": {},
     "output_type": "execute_result"
    }
   ],
   "source": [
    "x = da[(da.RIAGENDRx == 'Female') & (da.agegrp == pd.Interval(35, 50)) & (da.DMDEDUC2x == 'College')].DMDMARTLx.value_counts()\n",
    "y = da[da.DMDEDUC2x == 'College'].DMDMARTLx.value_counts().sum()\n",
    "freq = x / y\n",
    "freq"
   ]
  },
  {
   "cell_type": "code",
   "execution_count": 5,
   "id": "1ce22a41",
   "metadata": {},
   "outputs": [
    {
     "name": "stdout",
     "output_type": "stream",
     "text": [
      "                   DMDEDUC2x                 \n",
      "DMDMARTLx            Married Not Married   na\n",
      "RIAGENDRx agegrp                             \n",
      "Female    (35, 50]     419.0       321.0  NaN\n",
      "Male      (35, 50]     400.0       211.0  1.0\n"
     ]
    }
   ],
   "source": [
    "dx = da.groupby(['RIAGENDRx', 'agegrp', 'DMDMARTLx']).agg({'DMDEDUC2x':np.size}).unstack()\n",
    "print(dx)"
   ]
  },
  {
   "cell_type": "code",
   "execution_count": 6,
   "id": "fef8bb5d",
   "metadata": {},
   "outputs": [
    {
     "data": {
      "text/plain": [
       "(0.32137640979550464, 0.4137075902044953)"
      ]
     },
     "execution_count": 6,
     "metadata": {},
     "output_type": "execute_result"
    }
   ],
   "source": [
    "# Calculate 95% confidence intervals for married.\n",
    "p_married = 0.367542\n",
    "n = 419\n",
    "se_married = np.sqrt(p_married * (1 - p_married)/ n)\n",
    "\n",
    "lcb = p_married - 1.96 * se_married\n",
    "ucb = p_married + 1.96 * se_married\n",
    "(lcb, ucb)"
   ]
  },
  {
   "cell_type": "code",
   "execution_count": 7,
   "id": "38546873",
   "metadata": {},
   "outputs": [
    {
     "data": {
      "text/plain": [
       "(0.1642646868597602, 0.2531813131402398)"
      ]
     },
     "execution_count": 7,
     "metadata": {},
     "output_type": "execute_result"
    }
   ],
   "source": [
    "# Calculate 95% confidence intervals for not married.\n",
    "p_married = 0.208723\n",
    "n = 321\n",
    "se_married = np.sqrt(p_married * (1 - p_married)/ n)\n",
    "\n",
    "lcb = p_married - 1.96 * se_married\n",
    "ucb = p_married + 1.96 * se_married\n",
    "(lcb, ucb)"
   ]
  },
  {
   "cell_type": "markdown",
   "id": "9a707dc3",
   "metadata": {},
   "source": [
    "### Question 2\n",
    "Construct a 95% confidence interval for the proportion of smokers who are female. Construct a 95% confidence interval for the proportion of smokers who are male. Construct a 95% confidence interval for the difference between those two gender proportions."
   ]
  },
  {
   "cell_type": "code",
   "execution_count": 8,
   "id": "db0bc560",
   "metadata": {},
   "outputs": [
    {
     "data": {
      "text/plain": [
       "count     5725\n",
       "unique       2\n",
       "top         No\n",
       "freq      3406\n",
       "Name: SMQ020x, dtype: object"
      ]
     },
     "execution_count": 8,
     "metadata": {},
     "output_type": "execute_result"
    }
   ],
   "source": [
    "da['SMQ020x'] = da.SMQ020.replace({1:'Yes', 2:'No', 7:np.nan, 9:np.nan})\n",
    "da['SMQ020x'].describe()"
   ]
  },
  {
   "cell_type": "code",
   "execution_count": 9,
   "id": "a4007a9a",
   "metadata": {},
   "outputs": [
    {
     "data": {
      "text/html": [
       "<div>\n",
       "<style scoped>\n",
       "    .dataframe tbody tr th:only-of-type {\n",
       "        vertical-align: middle;\n",
       "    }\n",
       "\n",
       "    .dataframe tbody tr th {\n",
       "        vertical-align: top;\n",
       "    }\n",
       "\n",
       "    .dataframe thead th {\n",
       "        text-align: right;\n",
       "    }\n",
       "</style>\n",
       "<table border=\"1\" class=\"dataframe\">\n",
       "  <thead>\n",
       "    <tr style=\"text-align: right;\">\n",
       "      <th>RIAGENDRx</th>\n",
       "      <th>Female</th>\n",
       "      <th>Male</th>\n",
       "    </tr>\n",
       "    <tr>\n",
       "      <th>SMQ020x</th>\n",
       "      <th></th>\n",
       "      <th></th>\n",
       "    </tr>\n",
       "  </thead>\n",
       "  <tbody>\n",
       "    <tr>\n",
       "      <th>No</th>\n",
       "      <td>2066</td>\n",
       "      <td>1340</td>\n",
       "    </tr>\n",
       "    <tr>\n",
       "      <th>Yes</th>\n",
       "      <td>906</td>\n",
       "      <td>1413</td>\n",
       "    </tr>\n",
       "  </tbody>\n",
       "</table>\n",
       "</div>"
      ],
      "text/plain": [
       "RIAGENDRx  Female  Male\n",
       "SMQ020x                \n",
       "No           2066  1340\n",
       "Yes           906  1413"
      ]
     },
     "execution_count": 9,
     "metadata": {},
     "output_type": "execute_result"
    }
   ],
   "source": [
    "dx = da[['SMQ020x', 'RIAGENDRx']].dropna()\n",
    "pd.crosstab(dx.SMQ020x, dx.RIAGENDRx)"
   ]
  },
  {
   "cell_type": "code",
   "execution_count": 10,
   "id": "5abde4b2",
   "metadata": {},
   "outputs": [],
   "source": [
    "dx[\"SMQ020x\"] = dx.SMQ020x.replace({\"Yes\":1, \"No\":0})"
   ]
  },
  {
   "cell_type": "code",
   "execution_count": 11,
   "id": "cd263028",
   "metadata": {},
   "outputs": [
    {
     "data": {
      "text/html": [
       "<div>\n",
       "<style scoped>\n",
       "    .dataframe tbody tr th:only-of-type {\n",
       "        vertical-align: middle;\n",
       "    }\n",
       "\n",
       "    .dataframe tbody tr th {\n",
       "        vertical-align: top;\n",
       "    }\n",
       "\n",
       "    .dataframe thead th {\n",
       "        text-align: right;\n",
       "    }\n",
       "</style>\n",
       "<table border=\"1\" class=\"dataframe\">\n",
       "  <thead>\n",
       "    <tr style=\"text-align: right;\">\n",
       "      <th></th>\n",
       "      <th>Proportion</th>\n",
       "      <th>Total n</th>\n",
       "    </tr>\n",
       "    <tr>\n",
       "      <th>RIAGENDRx</th>\n",
       "      <th></th>\n",
       "      <th></th>\n",
       "    </tr>\n",
       "  </thead>\n",
       "  <tbody>\n",
       "    <tr>\n",
       "      <th>Female</th>\n",
       "      <td>0.304845</td>\n",
       "      <td>2972</td>\n",
       "    </tr>\n",
       "    <tr>\n",
       "      <th>Male</th>\n",
       "      <td>0.513258</td>\n",
       "      <td>2753</td>\n",
       "    </tr>\n",
       "  </tbody>\n",
       "</table>\n",
       "</div>"
      ],
      "text/plain": [
       "           Proportion  Total n\n",
       "RIAGENDRx                     \n",
       "Female       0.304845     2972\n",
       "Male         0.513258     2753"
      ]
     },
     "execution_count": 11,
     "metadata": {},
     "output_type": "execute_result"
    }
   ],
   "source": [
    "dz = dx.groupby(['RIAGENDRx']).agg({'SMQ020x':[np.mean, np.size]})\n",
    "dz.columns = ['Proportion', 'Total n']\n",
    "dz"
   ]
  },
  {
   "cell_type": "code",
   "execution_count": 12,
   "id": "7da072a5",
   "metadata": {},
   "outputs": [
    {
     "data": {
      "text/plain": [
       "(0.2882944651781637, 0.32139553482183625)"
      ]
     },
     "execution_count": 12,
     "metadata": {},
     "output_type": "execute_result"
    }
   ],
   "source": [
    "# Construct a 95% confidence interval for the proportion of smokers who are female\n",
    "p = 0.304845\n",
    "n = 2972\n",
    "se_female = np.sqrt(p * (1 - p) / n)\n",
    "lcb = p - 1.96 * se_female\n",
    "ucb = p + 1.96 * se_female\n",
    "(lcb, ucb)"
   ]
  },
  {
   "cell_type": "code",
   "execution_count": 13,
   "id": "1d0603c1",
   "metadata": {},
   "outputs": [
    {
     "data": {
      "text/plain": [
       "(0.49458688557746244, 0.5319291144225375)"
      ]
     },
     "execution_count": 13,
     "metadata": {},
     "output_type": "execute_result"
    }
   ],
   "source": [
    "# Construct a 95% confidence interval for the proportion of smokers who are male\n",
    "p = .513258\n",
    "n = 2753\n",
    "se_male = np.sqrt(p * (1 - p)/ n)\n",
    "lcb = p - 1.96 * se_male\n",
    "ucb = p + 1.96 * se_male\n",
    "(lcb, ucb)"
   ]
  },
  {
   "cell_type": "code",
   "execution_count": 14,
   "id": "ae469674",
   "metadata": {},
   "outputs": [
    {
     "data": {
      "text/plain": [
       "(-0.23336356545788706, -0.18346243454211297)"
      ]
     },
     "execution_count": 14,
     "metadata": {},
     "output_type": "execute_result"
    }
   ],
   "source": [
    "# Construct a 95% confidence interval for the difference between those two gender proportions.\n",
    "se_diff = np.sqrt(se_female ** 2 + se_male ** 2)\n",
    "d = 0.304845 - 0.513258\n",
    "lcb = d - 1.96 * se_diff\n",
    "ucb = d + 1.96 * se_diff\n",
    "(lcb, ucb)"
   ]
  },
  {
   "cell_type": "markdown",
   "id": "e2c31b6f",
   "metadata": {},
   "source": [
    "### Question 3\n",
    "Construct a 95% confidential interval for height (BMXHT) in centimeters. Then convert height from centimeters to inches by dividing by 2.54, and construct a 95% confidence interval for height in inches. Finally, convert the endpoints (the lower and upper confidence limits) of the confidence interval from inches to back to centimeters"
   ]
  },
  {
   "cell_type": "code",
   "execution_count": 15,
   "id": "a8d65ff7",
   "metadata": {},
   "outputs": [
    {
     "name": "stdout",
     "output_type": "stream",
     "text": [
      "mean =  166.14283447911131\n",
      "std =  10.079263712467688\n",
      "5735\n"
     ]
    }
   ],
   "source": [
    "# Construct a 95% confidential interval for height in cm\n",
    "mean = da[\"BMXHT\"].mean()\n",
    "print(\"mean = \", mean)\n",
    "\n",
    "sd = da[\"BMXHT\"].std()\n",
    "print(\"std = \", sd)\n",
    "\n",
    "n = len(da)\n",
    "print(n)"
   ]
  },
  {
   "cell_type": "code",
   "execution_count": 16,
   "id": "fe1eb63e",
   "metadata": {},
   "outputs": [
    {
     "data": {
      "text/plain": [
       "(165.88196806498644, 166.4037008932362)"
      ]
     },
     "execution_count": 16,
     "metadata": {},
     "output_type": "execute_result"
    }
   ],
   "source": [
    "se = sd / np.sqrt(n)\n",
    "lcb = mean - 1.96 * se\n",
    "ucb = mean + 1.96 * se\n",
    "(lcb, ucb)"
   ]
  },
  {
   "cell_type": "code",
   "execution_count": 17,
   "id": "ecb37c47",
   "metadata": {},
   "outputs": [
    {
     "data": {
      "text/plain": [
       "0    184.5\n",
       "1    171.4\n",
       "2    170.1\n",
       "3    160.9\n",
       "4    164.9\n",
       "Name: BMXHT, dtype: float64"
      ]
     },
     "execution_count": 17,
     "metadata": {},
     "output_type": "execute_result"
    }
   ],
   "source": [
    "da[\"BMXHT\"].head()"
   ]
  },
  {
   "cell_type": "code",
   "execution_count": 18,
   "id": "6985c79d",
   "metadata": {},
   "outputs": [
    {
     "data": {
      "text/plain": [
       "0    72.637795\n",
       "1    67.480315\n",
       "2    66.968504\n",
       "3    63.346457\n",
       "4    64.921260\n",
       "Name: BMXHTin, dtype: float64"
      ]
     },
     "execution_count": 18,
     "metadata": {},
     "output_type": "execute_result"
    }
   ],
   "source": [
    "# convert height from cm to inches\n",
    "da[\"BMXHTin\"] = da.BMXHT / 2.54\n",
    "da[\"BMXHTin\"].head()"
   ]
  },
  {
   "cell_type": "code",
   "execution_count": 19,
   "id": "c0de686f",
   "metadata": {},
   "outputs": [
    {
     "name": "stdout",
     "output_type": "stream",
     "text": [
      "mean = 65.41056475555557\n",
      "std = 3.9682140600266522\n",
      "5735\n",
      "standard error: 0.052399649309995376\n"
     ]
    }
   ],
   "source": [
    "# construct a 95% confidence interval for height in inches\n",
    "mean = da[\"BMXHTin\"].mean()\n",
    "print(\"mean = %s\" % (mean))\n",
    "sd = da[\"BMXHTin\"].std()\n",
    "print(\"std = %s\" % sd)\n",
    "n = len(da)\n",
    "print(n)\n",
    "se = sd / np.sqrt(n)\n",
    "print(\"standard error: %s\" % se)"
   ]
  },
  {
   "cell_type": "code",
   "execution_count": 20,
   "id": "91d4baa5",
   "metadata": {},
   "outputs": [
    {
     "name": "stdout",
     "output_type": "stream",
     "text": [
      "(65.30786144290798, 65.51326806820316)\n"
     ]
    }
   ],
   "source": [
    "lcb = mean - 1.96 * se\n",
    "ucb = mean + 1.96 * se\n",
    "print((lcb, ucb))"
   ]
  },
  {
   "cell_type": "code",
   "execution_count": 21,
   "id": "449a2b97",
   "metadata": {},
   "outputs": [
    {
     "name": "stdout",
     "output_type": "stream",
     "text": [
      "165.88232000000002\n",
      "166.40302000000003\n"
     ]
    }
   ],
   "source": [
    "# convert the endpoints of the confidence interval from inches to back to cm\n",
    "print(65.308 * 2.54)\n",
    "print(65.513 * 2.54)"
   ]
  },
  {
   "cell_type": "markdown",
   "id": "5e5f6561",
   "metadata": {},
   "source": [
    "### Question 4\n",
    "Partition the sample based on 10-year age bands, i.e. the resulting groups will consist of people with ages from 18-28, 29-38, etc. Construct 95% confidence intervals for the difference between the mean BMI for females and for males within each age band."
   ]
  },
  {
   "cell_type": "code",
   "execution_count": 23,
   "id": "eeeaffc6",
   "metadata": {},
   "outputs": [
    {
     "data": {
      "text/html": [
       "<div>\n",
       "<style scoped>\n",
       "    .dataframe tbody tr th:only-of-type {\n",
       "        vertical-align: middle;\n",
       "    }\n",
       "\n",
       "    .dataframe tbody tr th {\n",
       "        vertical-align: top;\n",
       "    }\n",
       "\n",
       "    .dataframe thead tr th {\n",
       "        text-align: left;\n",
       "    }\n",
       "\n",
       "    .dataframe thead tr:last-of-type th {\n",
       "        text-align: right;\n",
       "    }\n",
       "</style>\n",
       "<table border=\"1\" class=\"dataframe\">\n",
       "  <thead>\n",
       "    <tr>\n",
       "      <th></th>\n",
       "      <th></th>\n",
       "      <th colspan=\"3\" halign=\"left\">BMXBMI</th>\n",
       "    </tr>\n",
       "    <tr>\n",
       "      <th></th>\n",
       "      <th></th>\n",
       "      <th>mean</th>\n",
       "      <th>std</th>\n",
       "      <th>size</th>\n",
       "    </tr>\n",
       "    <tr>\n",
       "      <th>agegrp</th>\n",
       "      <th>RIAGENDRx</th>\n",
       "      <th></th>\n",
       "      <th></th>\n",
       "      <th></th>\n",
       "    </tr>\n",
       "  </thead>\n",
       "  <tbody>\n",
       "    <tr>\n",
       "      <th rowspan=\"2\" valign=\"top\">(18, 28]</th>\n",
       "      <th>Female</th>\n",
       "      <td>28.019433</td>\n",
       "      <td>8.048854</td>\n",
       "      <td>498.0</td>\n",
       "    </tr>\n",
       "    <tr>\n",
       "      <th>Male</th>\n",
       "      <td>27.058186</td>\n",
       "      <td>6.679515</td>\n",
       "      <td>458.0</td>\n",
       "    </tr>\n",
       "    <tr>\n",
       "      <th rowspan=\"2\" valign=\"top\">(28, 38]</th>\n",
       "      <th>Female</th>\n",
       "      <td>29.943443</td>\n",
       "      <td>7.959097</td>\n",
       "      <td>494.0</td>\n",
       "    </tr>\n",
       "    <tr>\n",
       "      <th>Male</th>\n",
       "      <td>29.697180</td>\n",
       "      <td>6.726690</td>\n",
       "      <td>467.0</td>\n",
       "    </tr>\n",
       "    <tr>\n",
       "      <th rowspan=\"2\" valign=\"top\">(38, 48]</th>\n",
       "      <th>Female</th>\n",
       "      <td>31.003733</td>\n",
       "      <td>8.044642</td>\n",
       "      <td>514.0</td>\n",
       "    </tr>\n",
       "    <tr>\n",
       "      <th>Male</th>\n",
       "      <td>29.514646</td>\n",
       "      <td>6.104950</td>\n",
       "      <td>398.0</td>\n",
       "    </tr>\n",
       "    <tr>\n",
       "      <th rowspan=\"2\" valign=\"top\">(48, 58]</th>\n",
       "      <th>Female</th>\n",
       "      <td>30.787361</td>\n",
       "      <td>7.647590</td>\n",
       "      <td>454.0</td>\n",
       "    </tr>\n",
       "    <tr>\n",
       "      <th>Male</th>\n",
       "      <td>29.385132</td>\n",
       "      <td>6.151534</td>\n",
       "      <td>419.0</td>\n",
       "    </tr>\n",
       "    <tr>\n",
       "      <th rowspan=\"2\" valign=\"top\">(58, 68]</th>\n",
       "      <th>Female</th>\n",
       "      <td>31.054664</td>\n",
       "      <td>7.779502</td>\n",
       "      <td>466.0</td>\n",
       "    </tr>\n",
       "    <tr>\n",
       "      <th>Male</th>\n",
       "      <td>29.232462</td>\n",
       "      <td>5.959024</td>\n",
       "      <td>470.0</td>\n",
       "    </tr>\n",
       "    <tr>\n",
       "      <th rowspan=\"2\" valign=\"top\">(68, 80]</th>\n",
       "      <th>Female</th>\n",
       "      <td>29.412685</td>\n",
       "      <td>6.403343</td>\n",
       "      <td>480.0</td>\n",
       "    </tr>\n",
       "    <tr>\n",
       "      <th>Male</th>\n",
       "      <td>28.255319</td>\n",
       "      <td>5.139608</td>\n",
       "      <td>484.0</td>\n",
       "    </tr>\n",
       "  </tbody>\n",
       "</table>\n",
       "</div>"
      ],
      "text/plain": [
       "                       BMXBMI                 \n",
       "                         mean       std   size\n",
       "agegrp   RIAGENDRx                            \n",
       "(18, 28] Female     28.019433  8.048854  498.0\n",
       "         Male       27.058186  6.679515  458.0\n",
       "(28, 38] Female     29.943443  7.959097  494.0\n",
       "         Male       29.697180  6.726690  467.0\n",
       "(38, 48] Female     31.003733  8.044642  514.0\n",
       "         Male       29.514646  6.104950  398.0\n",
       "(48, 58] Female     30.787361  7.647590  454.0\n",
       "         Male       29.385132  6.151534  419.0\n",
       "(58, 68] Female     31.054664  7.779502  466.0\n",
       "         Male       29.232462  5.959024  470.0\n",
       "(68, 80] Female     29.412685  6.403343  480.0\n",
       "         Male       28.255319  5.139608  484.0"
      ]
     },
     "execution_count": 23,
     "metadata": {},
     "output_type": "execute_result"
    }
   ],
   "source": [
    "da['agegrp'] = pd.cut(da.RIDAGEYR, [18, 28, 38, 48, 58, 68, 80])\n",
    "da.groupby(['agegrp', 'RIAGENDRx']).agg({'BMXBMI': [np.mean, np.std, np.size]})"
   ]
  },
  {
   "cell_type": "code",
   "execution_count": 24,
   "id": "a0f65404",
   "metadata": {},
   "outputs": [
    {
     "name": "stdout",
     "output_type": "stream",
     "text": [
      "0.4769728809100782\n"
     ]
    }
   ],
   "source": [
    "# 95% confidence intervals for the difference btw the mean BMI for females and for males:\n",
    "# i.e. 18-28\n",
    "diff_mean = 28.019433 - 27.058186\n",
    "se_female = 8.048854 / np.sqrt(498)\n",
    "se_male = 6.679515 / np.sqrt(458)\n",
    "se = np.sqrt(se_female ** 2 + se_male ** 2)\n",
    "print(se)"
   ]
  },
  {
   "cell_type": "code",
   "execution_count": 25,
   "id": "29fac0cb",
   "metadata": {},
   "outputs": [
    {
     "name": "stdout",
     "output_type": "stream",
     "text": [
      "(0.026380153416246888, 1.8961138465837535)\n"
     ]
    }
   ],
   "source": [
    "lcb = diff_mean - 1.96 * se\n",
    "ucb = diff_mean + 1.96 * se\n",
    "print((lcb, ucb))"
   ]
  },
  {
   "cell_type": "markdown",
   "id": "78ad0390",
   "metadata": {},
   "source": [
    "### Question 5\n",
    "Construct a 95% confidence interval for the first BPXSY1 and second systolic blood pressure measures BPXSY2, and for the difference between the first and second systolic blood pressure measurements within a subject."
   ]
  },
  {
   "cell_type": "code",
   "execution_count": 27,
   "id": "e59c8a63",
   "metadata": {},
   "outputs": [
    {
     "name": "stdout",
     "output_type": "stream",
     "text": [
      "mean = 125.08461396037771\n",
      "sd = 18.480872651654824\n",
      "n = 5735\n",
      "se = 0.24403704821379846\n"
     ]
    }
   ],
   "source": [
    "mean = da['BPXSY1'].mean()\n",
    "print('mean = %s' % mean)\n",
    "\n",
    "sd = da['BPXSY1'].std()\n",
    "print('sd = %s' % sd)\n",
    "\n",
    "n = len(da)\n",
    "print('n = %s' % n)\n",
    "\n",
    "se = sd / np.sqrt(n)\n",
    "print('se = %s' % se)"
   ]
  },
  {
   "cell_type": "code",
   "execution_count": 28,
   "id": "3ece2e7c",
   "metadata": {},
   "outputs": [
    {
     "name": "stdout",
     "output_type": "stream",
     "text": [
      "(124.60630134587866, 125.56292657487676)\n"
     ]
    }
   ],
   "source": [
    "lcb = mean - 1.96 * se\n",
    "ucb = mean + 1.96 * se\n",
    "print((lcb, ucb))"
   ]
  },
  {
   "cell_type": "markdown",
   "id": "3329e11f",
   "metadata": {},
   "source": [
    "### Question 6\n",
    "Construct a 95% confidence interval for the mean difference between the average age of a smoker, and the average age of a non-smoker."
   ]
  },
  {
   "cell_type": "code",
   "execution_count": 29,
   "id": "4036cfcb",
   "metadata": {},
   "outputs": [
    {
     "data": {
      "text/html": [
       "<div>\n",
       "<style scoped>\n",
       "    .dataframe tbody tr th:only-of-type {\n",
       "        vertical-align: middle;\n",
       "    }\n",
       "\n",
       "    .dataframe tbody tr th {\n",
       "        vertical-align: top;\n",
       "    }\n",
       "\n",
       "    .dataframe thead tr th {\n",
       "        text-align: left;\n",
       "    }\n",
       "\n",
       "    .dataframe thead tr:last-of-type th {\n",
       "        text-align: right;\n",
       "    }\n",
       "</style>\n",
       "<table border=\"1\" class=\"dataframe\">\n",
       "  <thead>\n",
       "    <tr>\n",
       "      <th></th>\n",
       "      <th colspan=\"3\" halign=\"left\">RIDAGEYR</th>\n",
       "    </tr>\n",
       "    <tr>\n",
       "      <th></th>\n",
       "      <th>mean</th>\n",
       "      <th>std</th>\n",
       "      <th>size</th>\n",
       "    </tr>\n",
       "    <tr>\n",
       "      <th>SMQ020x</th>\n",
       "      <th></th>\n",
       "      <th></th>\n",
       "      <th></th>\n",
       "    </tr>\n",
       "  </thead>\n",
       "  <tbody>\n",
       "    <tr>\n",
       "      <th>No</th>\n",
       "      <td>45.259836</td>\n",
       "      <td>18.543286</td>\n",
       "      <td>3406</td>\n",
       "    </tr>\n",
       "    <tr>\n",
       "      <th>Yes</th>\n",
       "      <td>52.096593</td>\n",
       "      <td>17.461141</td>\n",
       "      <td>2319</td>\n",
       "    </tr>\n",
       "  </tbody>\n",
       "</table>\n",
       "</div>"
      ],
      "text/plain": [
       "          RIDAGEYR                 \n",
       "              mean        std  size\n",
       "SMQ020x                            \n",
       "No       45.259836  18.543286  3406\n",
       "Yes      52.096593  17.461141  2319"
      ]
     },
     "execution_count": 29,
     "metadata": {},
     "output_type": "execute_result"
    }
   ],
   "source": [
    "da['SMQ020'] = da.SMQ020.replace({1:'Yes', 2:'No', 7:np.nan, 9:np.nan})\n",
    "dz = da[['SMQ020x', 'RIDAGEYR']].dropna()\n",
    "dz.groupby('SMQ020x').agg({'RIDAGEYR': [np.mean, np.std, np.size]})"
   ]
  },
  {
   "cell_type": "code",
   "execution_count": 30,
   "id": "98a9ce34",
   "metadata": {},
   "outputs": [
    {
     "name": "stdout",
     "output_type": "stream",
     "text": [
      "(5.891820266365192, 7.781693733634805)\n"
     ]
    }
   ],
   "source": [
    "se_yes = 17.461141 / np.sqrt(2319)\n",
    "se_no = 18.543286 / np.sqrt(3406)\n",
    "diff_se = np.sqrt(se_yes ** 2 + se_no ** 2)\n",
    "mean = 52.096593 - 45.259836\n",
    "lcb = mean - 1.96 * diff_se\n",
    "ucb = mean + 1.96 * diff_se\n",
    "print((lcb, ucb))"
   ]
  }
 ],
 "metadata": {
  "kernelspec": {
   "display_name": "Python 3",
   "language": "python",
   "name": "python3"
  },
  "language_info": {
   "codemirror_mode": {
    "name": "ipython",
    "version": 3
   },
   "file_extension": ".py",
   "mimetype": "text/x-python",
   "name": "python",
   "nbconvert_exporter": "python",
   "pygments_lexer": "ipython3",
   "version": "3.8.8"
  }
 },
 "nbformat": 4,
 "nbformat_minor": 5
}
